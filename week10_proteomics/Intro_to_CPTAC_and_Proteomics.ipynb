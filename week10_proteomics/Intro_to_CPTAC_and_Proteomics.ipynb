{
 "cells": [
  {
   "cell_type": "markdown",
   "id": "9f3b6a87",
   "metadata": {},
   "source": [
    "# Introduction to CPTAC and Proteomics\n",
    "\n",
    "This document will take you through the basics of CPTAC and analyzing proteomic data in python. Let's get started!"
   ]
  },
  {
   "cell_type": "markdown",
   "id": "64ad08b5",
   "metadata": {},
   "source": [
    "## Setting up your working directory\n",
    "\n",
    "Set your working directory to your analysis_data folder."
   ]
  },
  {
   "cell_type": "code",
   "execution_count": 1,
   "id": "a53acaad",
   "metadata": {},
   "outputs": [],
   "source": [
    "import os\n",
    "\n",
    "os.chdir('/Users/chloelyc/Desktop/QBIO490/qbio_490_chloe/analysis_data')"
   ]
  },
  {
   "cell_type": "markdown",
   "id": "bcf734ad",
   "metadata": {},
   "source": [
    "## (1) Introduction to CPTAC\n",
    "\n",
    "To install CPTAC, we will use the `cptac` package. CPTAC, which stands for Clinical Proteomics Tumor Analysis Consortium, is a bit like TCGA in that it is publicly available big data for many different cancer but it focuses mostly on proteomics and proteogenomic data. One cool thing about CPTAC is that its proteomics data is *in conjunction* with TCGA clinical data, so CPTAC and TCGA share patients and we can extract more about their protein expression as an added layer of analysis using CPTAC.\n",
    "\n",
    "The thing about proteomic data is that it doesn't use absolute counts like RNA data. Instead, proteomics data shows the **relative expression/intensity** instead of counts. This makes it easier to compare protein expression data among different groups/demographics of interest because we have a reference value. \n",
    "\n",
    "### Installing and importing `cptac` &#8592; we just did this!\n",
    "The `cptac` package is similar to `TCGAbiolinks`. The information in `cptac` is stored using pandas dataframes. Just like in R, we need to install `cptac` before loading it into our environment. If you haven't installed it yet, just run the code chunk below. If you get an error, you will have to take the following steps:\n",
    "\n",
    "1. Shut down jupyter notebook in the terminal with CTRL+C.\n",
    "2. Make sure that you have deactivated your base environment and activated your qbio_student environment.\n",
    "3. Run `pip install cptac`.\n",
    "4. Open the tutorial again through jupyter.\n",
    "\n",
    "### Start exploring CPTAC with `cptac`\n",
    "Similar to TCGAbiolinks, we need to load the package and download the data before using.\n",
    "1. Import the package (`cptac`).\n",
    "2. Look at the data sets available to us with the list_datasets() function. As a reminder, remember the package_name.method() syntax!\n",
    "3. Download the one of interest (BRCA in our case).\n",
    "4. Load it into our python environment."
   ]
  },
  {
   "cell_type": "code",
   "execution_count": 3,
   "id": "3274cad7",
   "metadata": {},
   "outputs": [
    {
     "data": {
      "text/html": [
       "<div>\n",
       "<style scoped>\n",
       "    .dataframe tbody tr th:only-of-type {\n",
       "        vertical-align: middle;\n",
       "    }\n",
       "\n",
       "    .dataframe tbody tr th {\n",
       "        vertical-align: top;\n",
       "    }\n",
       "\n",
       "    .dataframe thead th {\n",
       "        text-align: right;\n",
       "    }\n",
       "</style>\n",
       "<table border=\"1\" class=\"dataframe\">\n",
       "  <thead>\n",
       "    <tr style=\"text-align: right;\">\n",
       "      <th></th>\n",
       "      <th>Description</th>\n",
       "      <th>Data reuse status</th>\n",
       "      <th>Publication link</th>\n",
       "    </tr>\n",
       "    <tr>\n",
       "      <th>Dataset name</th>\n",
       "      <th></th>\n",
       "      <th></th>\n",
       "      <th></th>\n",
       "    </tr>\n",
       "  </thead>\n",
       "  <tbody>\n",
       "    <tr>\n",
       "      <th>Brca</th>\n",
       "      <td>breast cancer</td>\n",
       "      <td>no restrictions</td>\n",
       "      <td>https://pubmed.ncbi.nlm.nih.gov/33212010/</td>\n",
       "    </tr>\n",
       "    <tr>\n",
       "      <th>Ccrcc</th>\n",
       "      <td>clear cell renal cell carcinoma (kidney)</td>\n",
       "      <td>no restrictions</td>\n",
       "      <td>https://pubmed.ncbi.nlm.nih.gov/31675502/</td>\n",
       "    </tr>\n",
       "    <tr>\n",
       "      <th>Colon</th>\n",
       "      <td>colorectal cancer</td>\n",
       "      <td>no restrictions</td>\n",
       "      <td>https://pubmed.ncbi.nlm.nih.gov/31031003/</td>\n",
       "    </tr>\n",
       "    <tr>\n",
       "      <th>Endometrial</th>\n",
       "      <td>endometrial carcinoma (uterine)</td>\n",
       "      <td>no restrictions</td>\n",
       "      <td>https://pubmed.ncbi.nlm.nih.gov/32059776/</td>\n",
       "    </tr>\n",
       "    <tr>\n",
       "      <th>Gbm</th>\n",
       "      <td>glioblastoma</td>\n",
       "      <td>no restrictions</td>\n",
       "      <td>https://pubmed.ncbi.nlm.nih.gov/33577785/</td>\n",
       "    </tr>\n",
       "    <tr>\n",
       "      <th>Hnscc</th>\n",
       "      <td>head and neck squamous cell carcinoma</td>\n",
       "      <td>no restrictions</td>\n",
       "      <td>https://pubmed.ncbi.nlm.nih.gov/33417831/</td>\n",
       "    </tr>\n",
       "    <tr>\n",
       "      <th>Lscc</th>\n",
       "      <td>lung squamous cell carcinoma</td>\n",
       "      <td>no restrictions</td>\n",
       "      <td>https://pubmed.ncbi.nlm.nih.gov/34358469/</td>\n",
       "    </tr>\n",
       "    <tr>\n",
       "      <th>Luad</th>\n",
       "      <td>lung adenocarcinoma</td>\n",
       "      <td>no restrictions</td>\n",
       "      <td>https://pubmed.ncbi.nlm.nih.gov/32649874/</td>\n",
       "    </tr>\n",
       "    <tr>\n",
       "      <th>Ovarian</th>\n",
       "      <td>high grade serous ovarian cancer</td>\n",
       "      <td>no restrictions</td>\n",
       "      <td>https://pubmed.ncbi.nlm.nih.gov/27372738/</td>\n",
       "    </tr>\n",
       "    <tr>\n",
       "      <th>Pdac</th>\n",
       "      <td>pancreatic ductal adenocarcinoma</td>\n",
       "      <td>no restrictions</td>\n",
       "      <td>https://pubmed.ncbi.nlm.nih.gov/34534465/</td>\n",
       "    </tr>\n",
       "    <tr>\n",
       "      <th>UcecConf</th>\n",
       "      <td>endometrial confirmatory carcinoma</td>\n",
       "      <td>password access only</td>\n",
       "      <td>unpublished</td>\n",
       "    </tr>\n",
       "    <tr>\n",
       "      <th>GbmConf</th>\n",
       "      <td>glioblastoma confirmatory</td>\n",
       "      <td>password access only</td>\n",
       "      <td>unpublished</td>\n",
       "    </tr>\n",
       "  </tbody>\n",
       "</table>\n",
       "</div>"
      ],
      "text/plain": [
       "                                           Description     Data reuse status  \\\n",
       "Dataset name                                                                   \n",
       "Brca                                     breast cancer       no restrictions   \n",
       "Ccrcc         clear cell renal cell carcinoma (kidney)       no restrictions   \n",
       "Colon                                colorectal cancer       no restrictions   \n",
       "Endometrial            endometrial carcinoma (uterine)       no restrictions   \n",
       "Gbm                                       glioblastoma       no restrictions   \n",
       "Hnscc            head and neck squamous cell carcinoma       no restrictions   \n",
       "Lscc                      lung squamous cell carcinoma       no restrictions   \n",
       "Luad                               lung adenocarcinoma       no restrictions   \n",
       "Ovarian               high grade serous ovarian cancer       no restrictions   \n",
       "Pdac                  pancreatic ductal adenocarcinoma       no restrictions   \n",
       "UcecConf            endometrial confirmatory carcinoma  password access only   \n",
       "GbmConf                      glioblastoma confirmatory  password access only   \n",
       "\n",
       "                                       Publication link  \n",
       "Dataset name                                             \n",
       "Brca          https://pubmed.ncbi.nlm.nih.gov/33212010/  \n",
       "Ccrcc         https://pubmed.ncbi.nlm.nih.gov/31675502/  \n",
       "Colon         https://pubmed.ncbi.nlm.nih.gov/31031003/  \n",
       "Endometrial   https://pubmed.ncbi.nlm.nih.gov/32059776/  \n",
       "Gbm           https://pubmed.ncbi.nlm.nih.gov/33577785/  \n",
       "Hnscc         https://pubmed.ncbi.nlm.nih.gov/33417831/  \n",
       "Lscc          https://pubmed.ncbi.nlm.nih.gov/34358469/  \n",
       "Luad          https://pubmed.ncbi.nlm.nih.gov/32649874/  \n",
       "Ovarian       https://pubmed.ncbi.nlm.nih.gov/27372738/  \n",
       "Pdac          https://pubmed.ncbi.nlm.nih.gov/34534465/  \n",
       "UcecConf                                    unpublished  \n",
       "GbmConf                                     unpublished  "
      ]
     },
     "execution_count": 3,
     "metadata": {},
     "output_type": "execute_result"
    }
   ],
   "source": [
    "# 1. Import cptac\n",
    "import cptac\n",
    "\n",
    "# 2. Examine the data sets available with list_datasets()\n",
    "cptac.list_datasets()"
   ]
  },
  {
   "cell_type": "code",
   "execution_count": 4,
   "id": "aeb53aa2",
   "metadata": {},
   "outputs": [
    {
     "name": "stdout",
     "output_type": "stream",
     "text": [
      "                                         \r"
     ]
    }
   ],
   "source": [
    "# 3. Download the breast cancer data set -- fill in dataset!\n",
    "cptac.download(dataset=\"BRCA\")\n",
    "\n",
    "# 4. Load the breast cancer data set\n",
    "brca = cptac.Brca()"
   ]
  },
  {
   "cell_type": "markdown",
   "id": "fadf54d4",
   "metadata": {},
   "source": [
    "Now, we have our brca object containing a bunch of data. We can use the list_data() function the data available for the breast cancer dataset.\n",
    "\n",
    "In addition to the proteomics data, we can also accesss the accompanying transcriptomics, CNV, etc. using this object. We will focus on the broad proteomics data for this course; however, other data present in this dataset are also pretty interesting. Finally, many proteins can't be identified very well, so they won't appear as a column (for example, APC isn't in the proteomics data set).\n",
    "\n",
    "**Exercise 1.1** Call the list_data() function from the brca object to examine the different data contained in the brca object. Much like calling functions from a package, we can use the brca.function() syntax.\n",
    "\n",
    "* How many patients do you think there are in this dataset? (Make an educated guess about this from the dimensions - we'll confirm your answer later on)"
   ]
  },
  {
   "cell_type": "code",
   "execution_count": 6,
   "id": "f96afeaf",
   "metadata": {},
   "outputs": [
    {
     "name": "stdout",
     "output_type": "stream",
     "text": [
      "Below are the dataframes contained in this dataset and their dimensions:\n",
      "\n",
      "acetylproteomics\n",
      "\t122 rows\n",
      "\t9868 columns\n",
      "clinical\n",
      "\t122 rows\n",
      "\t18 columns\n",
      "CNV\n",
      "\t122 rows\n",
      "\t23692 columns\n",
      "derived_molecular\n",
      "\t122 rows\n",
      "\t36 columns\n",
      "phosphoproteomics\n",
      "\t122 rows\n",
      "\t38775 columns\n",
      "proteomics\n",
      "\t122 rows\n",
      "\t10107 columns\n",
      "somatic_mutation\n",
      "\t24106 rows\n",
      "\t3 columns\n",
      "transcriptomics\n",
      "\t122 rows\n",
      "\t23121 columns\n"
     ]
    }
   ],
   "source": [
    "# Run the list_data() function\n",
    "brca.list_data()"
   ]
  },
  {
   "cell_type": "markdown",
   "id": "ab6034bd",
   "metadata": {},
   "source": [
    "**Exercise 1.2** Use the get_proteomics() function to store the proteomics data into a new data frame."
   ]
  },
  {
   "cell_type": "code",
   "execution_count": 8,
   "id": "2f7abc05",
   "metadata": {},
   "outputs": [],
   "source": [
    "protein_data = brca.get_proteomics() # get the proteomics data\n",
    "protein_data # view the data\n",
    "\n",
    "\n",
    "# Uncomment and run this command after you get the data, you don't really need to know what it does but it collapses\n",
    "# the column names and gets rid of the database_IDs which will make our lives much easier!\n",
    "\n",
    "protein_data.columns = protein_data.columns.get_level_values(0) \n"
   ]
  },
  {
   "cell_type": "markdown",
   "id": "1188f104",
   "metadata": {},
   "source": [
    "## (2) Exploring the Data\n",
    "\n",
    "As mentioned earlier, `cptac` data is in the form of `pandas` dataframes. Let's load that and `numpy`. \n",
    "\n",
    "**Exercise 2.1** Import numpy and pandas with their usual shortened names (pd and np)."
   ]
  },
  {
   "cell_type": "code",
   "execution_count": 29,
   "id": "8ace4453",
   "metadata": {
    "scrolled": true
   },
   "outputs": [],
   "source": [
    "# import packages here\n",
    "import numpy as np\n",
    "import pandas as pd"
   ]
  },
  {
   "cell_type": "markdown",
   "id": "2b18a548",
   "metadata": {},
   "source": [
    "Remember that we can access the rows/column names of a data frame in two ways:\n",
    "1. We can get the row and column names together in a list with the `axes` attribute.\n",
    "2. We can get the row or column names individually in the `index` (row) or `columns` (column) attribute.\n",
    "\n",
    "**Exercise 2.2** Print the axes, index, and columns of the protein_data object. Then, determine its dimensions using the shape attribute. Finally, answer the following questions:\n",
    "\n",
    "* How many rows and columns are there in the data frame?\n",
    "* What do the rows and columns represent?\n",
    "* How many patients are there?\n",
    "* What about proteins?"
   ]
  },
  {
   "cell_type": "code",
   "execution_count": 12,
   "id": "9314eab9",
   "metadata": {},
   "outputs": [
    {
     "data": {
      "text/plain": [
       "Index(['A1BG', 'A2M', 'A2ML1', 'AAAS', 'AACS', 'AADAT', 'AAED1', 'AAGAB',\n",
       "       'AAK1', 'AAMDC',\n",
       "       ...\n",
       "       'ZSCAN31', 'ZSWIM8', 'ZW10', 'ZWILCH', 'ZWINT', 'ZXDC', 'ZYG11B', 'ZYX',\n",
       "       'ZZEF1', 'ZZZ3'],\n",
       "      dtype='object', name='Name', length=10107)"
      ]
     },
     "execution_count": 12,
     "metadata": {},
     "output_type": "execute_result"
    }
   ],
   "source": [
    "protein_data.axes\n",
    "protein_data.index\n",
    "protein_data.columns"
   ]
  },
  {
   "cell_type": "code",
   "execution_count": null,
   "id": "1501f26c",
   "metadata": {},
   "outputs": [],
   "source": [
    "## Explore the data frame here and answer questions\n",
    "# There are 122 rows and 10107 columns\n",
    "# The rows represent the patient ID and the columns represent the gene name\n",
    "# There are 122 patients and 10107 proteins"
   ]
  },
  {
   "cell_type": "markdown",
   "id": "6db06758",
   "metadata": {},
   "source": [
    "Remember we can access data by name using `.loc[]` and `.iloc[]`. Since this dataset is really large, we won't really use `.iloc[]` which accesses by index. To get the protein expression information for a specific patient, therefore, we would run something like this: "
   ]
  },
  {
   "cell_type": "code",
   "execution_count": null,
   "id": "5158710b",
   "metadata": {},
   "outputs": [],
   "source": [
    "protein_data.loc[\"patient ID\",\"protein name\"] # this is the general case, you have to fill in actual IDs/protein names"
   ]
  },
  {
   "cell_type": "markdown",
   "id": "0c4e080d",
   "metadata": {},
   "source": [
    "**Exercise 2.3** Remember that the numerical data in CPTAC is the relative fold change, not an absolute value/count. Given this, what kind of number would represent lower relative expression? What kind of number would represent higher relative expression? (Hint: reference level is 0) "
   ]
  },
  {
   "cell_type": "code",
   "execution_count": null,
   "id": "98e77185",
   "metadata": {},
   "outputs": [],
   "source": [
    "## Answer question in comment form here\n",
    "# Number that is smaller than 0 represents the low relative expression, that is larger than 0\n",
    "# represents the high relative expression"
   ]
  },
  {
   "cell_type": "markdown",
   "id": "ccdaaa65",
   "metadata": {},
   "source": [
    "**Exericse 2.4**\n",
    "\n",
    "Print the relative fold change of patient `X01BR008` in the `TP53` protein. Then, interpret this value -- does this patient have higher or lower protein levels than the reference? (Hint: use .loc[] and remember that a `:` can be used in either the row or column slot to access every row or every column.)\n"
   ]
  },
  {
   "cell_type": "code",
   "execution_count": 13,
   "id": "112a5055",
   "metadata": {},
   "outputs": [
    {
     "data": {
      "text/plain": [
       "1.9239"
      ]
     },
     "execution_count": 13,
     "metadata": {},
     "output_type": "execute_result"
    }
   ],
   "source": [
    "## write code here\n",
    "protein_data.loc[\"X01BR008\",\"TP53\"]\n",
    "# TP53 in this patient is highly expressed"
   ]
  },
  {
   "cell_type": "markdown",
   "id": "e66937a6",
   "metadata": {},
   "source": [
    "### Boolean indexing\n",
    "\n",
    "In R, we used the `ifelse()` function very heavily to assign categories, such as classifying patients as \"old\" or \"young\". In Python, we have the `where(COND, TRUE_VAL, FALSE_VAL)` function from numpy, which works extremely similarly to ifelse(). That is:\n",
    "\n",
    "   1. The first parameter is the condition (a boolean vector; i.e. Trues and Falses).\n",
    "   2. The second parameter is the value to fill the True conditions.\n",
    "   3. The third parameter is the value to fil lthe False conditions.\n",
    "    \n",
    "The following example (split into the four code blocks below) shows how to apply the `where()` function, in the context of telling if a number is odd or even."
   ]
  },
  {
   "cell_type": "code",
   "execution_count": null,
   "id": "877c4f62",
   "metadata": {
    "scrolled": true
   },
   "outputs": [],
   "source": [
    "# first let's create our example array\n",
    "\n",
    "number_example_array = pd.DataFrame({\"nums\": [0, 1, 2, 3, 4, 5]})\n",
    "number_example_array"
   ]
  },
  {
   "cell_type": "code",
   "execution_count": null,
   "id": "877ea8ef",
   "metadata": {},
   "outputs": [],
   "source": [
    "# now, let's make a boolean vector where odds will be True, evens will be False\n",
    "boolean_vector = (number_example_array % 2 == 1)\n",
    "boolean_vector"
   ]
  },
  {
   "cell_type": "code",
   "execution_count": null,
   "id": "11f0d23e",
   "metadata": {},
   "outputs": [],
   "source": [
    "# then add this vector as a column in our array (we could do this and the above in one step)\n",
    "number_example_array[\"boolean_vector\"] = boolean_vector\n",
    "number_example_array"
   ]
  },
  {
   "cell_type": "code",
   "execution_count": null,
   "id": "e85d10e5",
   "metadata": {},
   "outputs": [],
   "source": [
    "# lastly, let's add a third column called \"parity\" that says based off of \"boolean_vector\" if our value is odd/even\n",
    "number_example_array[\"parity\"] = np.where(boolean_vector, \"Odd\", \"Even\")\n",
    "number_example_array"
   ]
  },
  {
   "cell_type": "markdown",
   "id": "3ae3e913",
   "metadata": {},
   "source": [
    "**Exercise 2.5** Access the following:\n",
    "\n",
    "1. Use boolean indexing to access the patient IDs with high (≥1) `TP53` expression. Save this in a pandas DataFrame called `high_TP53`. HINTS:\n",
    "    * Think about if protein expression information will be contained in a row or a column!\n",
    "    * Create a boolean mask with the row/column that contains the expression information of `TP53`.\n",
    "    * Apply the mask to the row/column names that contains the patient IDs.\n",
    "2. How many patients are there in `high_TP53`? Which axis (columns or rows) represents proteins?\n",
    "3. Add a column to `high_TP53` that has the values \"High\"/\"Average\"/\"Low\" based on ARF1 expression.\n",
    "4. How many patients have high expression of both `TP53` and average expression of `ARF1`?"
   ]
  },
  {
   "cell_type": "code",
   "execution_count": 15,
   "id": "d71d7b15",
   "metadata": {},
   "outputs": [],
   "source": [
    "# write code here\n",
    "mask = protein_data.loc[:,\"TP53\"] >= 1\n",
    "high_TP53 = pd.DataFrame(protein_data.loc[mask,:])\n",
    "high_TP53[\"ARF_Expression\"] =  np.where(high_TP53.loc[:,\"ARF1\"] >= 1, \"High\", np.where(high_TP53.loc[:, \"ARF1\"] <= -1, \"Low\",\"Average\"))\n",
    "# There are 11 patients in high_TP53\n",
    "# The columns represents the proteins\n",
    "sum(high_TP53.loc[:,\"ARF_Expression\"]==\"Average\")\n",
    "# There are 9 patients with both high expression of TP53 and average expression of ARF1"
   ]
  },
  {
   "cell_type": "markdown",
   "id": "5e91a353",
   "metadata": {},
   "source": [
    "## (3) Additional data in CPTAC\n",
    "\n",
    "You can also access other data using the `cptac` python package for the same patients, using the corresponding get function.\n",
    "\n",
    "**Exercise 3.1** Access the RNA (transcriptomics) and clinical data from the brca object. The function name is very similar in syntax to the get_proteomics() function from before!"
   ]
  },
  {
   "cell_type": "code",
   "execution_count": 60,
   "id": "26ae7024",
   "metadata": {},
   "outputs": [],
   "source": [
    "rna_data = brca.get_transcriptomics()\n",
    "clinical_data = brca.get_clinical()"
   ]
  },
  {
   "cell_type": "markdown",
   "id": "7d217ca6",
   "metadata": {},
   "source": [
    "**Exercise 3.2** Examine these dataframes. In particular:\n",
    "\n",
    "* What do the values in the rna_data data frame represent?\n",
    "* Compare the dimensions of the high_TP53, rna_data, and clinical_data. Are they equal?"
   ]
  },
  {
   "cell_type": "code",
   "execution_count": 24,
   "id": "0ef35657",
   "metadata": {},
   "outputs": [
    {
     "data": {
      "text/plain": [
       "[Index(['CPT000814', 'CPT001846', 'X01BR001', 'X01BR008', 'X01BR009',\n",
       "        'X01BR010', 'X01BR015', 'X01BR017', 'X01BR018', 'X01BR020',\n",
       "        ...\n",
       "        'X20BR002', 'X20BR005', 'X20BR006', 'X20BR007', 'X20BR008', 'X21BR001',\n",
       "        'X21BR002', 'X21BR010', 'X22BR005', 'X22BR006'],\n",
       "       dtype='object', name='Patient_ID', length=122),\n",
       " Index(['Replicate_Measurement_IDs', 'Sample_Tumor_Normal', 'TMT.Plex',\n",
       "        'TMT.Channel', 'Stage', 'Ischemia.Time.in.Minutes', 'PAM50',\n",
       "        'NMF.Cluster', 'NMF.Cluster.Membership.Score', 'Age.in.Month', 'Gender',\n",
       "        'Ethnicity', 'ER.Updated.Clinical.Status', 'PR.Clinical.Status',\n",
       "        'ERBB2.Updated.Clinical.Status', 'TNBC.Updated.Clinical.Status',\n",
       "        'ERBB2.Proteogenomic.Status', 'TOP2A.Proteogenomic.Status'],\n",
       "       dtype='object', name='Name')]"
      ]
     },
     "execution_count": 24,
     "metadata": {},
     "output_type": "execute_result"
    }
   ],
   "source": [
    "# explore the data frames using shape, axes, and other functions we've gone over.\n",
    "rna_data.axes\n",
    "clinical_data.axes\n",
    "# The rna_data has row as patient ID and column as gene name just as the proteomic data\n",
    "# The rna_data has the same number of patients as the proteomic data, but has more genes\n",
    "# The clinical data also has the same number of patients, but the column represents the clinical traits of the patients"
   ]
  },
  {
   "cell_type": "markdown",
   "id": "67f6107d",
   "metadata": {},
   "source": [
    "The dimensions for each dataframe might not be equal depending on if you masked some patients. That's where the `intersect1d()` function from numpy becomes really useful, especially if we want to analyze transcriptomics, proteomics, and clinical data together. This lets us see which patient barcodes are shared between the data frames.\n",
    "\n",
    "\n",
    "Let's take a look at all of the patients who are older than 50 years old at the time of diagnosis. \n",
    "**Exercise 3.3**\n",
    "1.  Use the clinical data DataFrame to create a boolean mask for the condition of patients being older than 50.\n",
    "2.  Mask the clinical data and assign it to a DataFrame called 'masked_clinical'."
   ]
  },
  {
   "cell_type": "code",
   "execution_count": 61,
   "id": "27343c31",
   "metadata": {},
   "outputs": [],
   "source": [
    "# write code here\n",
    "age_mask = clinical_data.loc[:,\"Age.in.Month\"]/12 >50\n",
    "masked_clinical = clinical_data.loc[age_mask,:]"
   ]
  },
  {
   "cell_type": "markdown",
   "id": "d356f73c",
   "metadata": {},
   "source": [
    "Now that we have masked our data, if we tried to do an analysis using the different data frames, we would get a lot of errors since we are now missing some patients in our masked_clinical data frame. If we want to get the patients who are present in the masked data as well as the rna_data and protein_data, we can use intersect1d().\n",
    "\n",
    "**Exercise 3.4**\n",
    "1. Use `intersect1d()` from np to create a list that contains the patient IDs for each pair of data frames as mentioned below. (Hint: this function takes two 1d arrays, which would be patient IDs from two different dataframes. How do we get this from each dataframe? Are patient IDs rows or columns?) \n",
    "2. Use a for loop to print the lengths of these three data frames, and compare them to the number of rows. The for loop skeleton is below. What do you notice about the three lengths? Do the numbers correspond to anything in particular?\n",
    "3. Finally, identify which intersection contains the patient IDs where there is data for all three levels of data (proteomics, transcriptomics, and clinical). How can we tell?"
   ]
  },
  {
   "cell_type": "code",
   "execution_count": 62,
   "id": "6daf99fa",
   "metadata": {},
   "outputs": [
    {
     "name": "stdout",
     "output_type": "stream",
     "text": [
      "The length of the dataframe is 122\n",
      "The length of the dataframe is 79\n",
      "The length of the dataframe is 79\n"
     ]
    }
   ],
   "source": [
    "# 1.\n",
    "name_intersects = [\n",
    "    np.intersect1d(protein_data.index, rna_data.index), # 0. fill in intersecting for protein/rna here using intersect1d()\n",
    "    np.intersect1d(protein_data.index, masked_clinical.index), # 1. fill in intersecting for protein/masked clinical here\n",
    "    np.intersect1d(masked_clinical.index, rna_data.index), # 2. fill in the intersecting for rna/masked clinical here\n",
    "]\n",
    "\n",
    "# 2. Print the lengths here\n",
    "# write a for loop here\n",
    "for i in name_intersects:\n",
    "    print(f\"The length of the dataframe is {len(i)}\")  # fill in here\n",
    "    \n",
    "# 3. Which comparison(s) contain the patient names that have all three levels?\n",
    "# The intersection between the protein data and the masked clinical or the intersection between the \n",
    "# rna data and the masked clinical have the patient ID where there is data for all three levels of data,\n",
    "# because the masked clinical has the minimal amount of patient IDs\n"
   ]
  },
  {
   "cell_type": "markdown",
   "id": "f34fa008",
   "metadata": {},
   "source": [
    "## (4) Examining the Clinical Data"
   ]
  },
  {
   "cell_type": "markdown",
   "id": "1c16ae96",
   "metadata": {},
   "source": [
    "Let's explore the clinical data in more detail.\n",
    "\n",
    "First, use head() to glance as to what data is available."
   ]
  },
  {
   "cell_type": "code",
   "execution_count": 47,
   "id": "60fe1771",
   "metadata": {},
   "outputs": [
    {
     "data": {
      "text/html": [
       "<div>\n",
       "<style scoped>\n",
       "    .dataframe tbody tr th:only-of-type {\n",
       "        vertical-align: middle;\n",
       "    }\n",
       "\n",
       "    .dataframe tbody tr th {\n",
       "        vertical-align: top;\n",
       "    }\n",
       "\n",
       "    .dataframe thead th {\n",
       "        text-align: right;\n",
       "    }\n",
       "</style>\n",
       "<table border=\"1\" class=\"dataframe\">\n",
       "  <thead>\n",
       "    <tr style=\"text-align: right;\">\n",
       "      <th>Name</th>\n",
       "      <th>Replicate_Measurement_IDs</th>\n",
       "      <th>Sample_Tumor_Normal</th>\n",
       "      <th>TMT.Plex</th>\n",
       "      <th>TMT.Channel</th>\n",
       "      <th>Stage</th>\n",
       "      <th>Ischemia.Time.in.Minutes</th>\n",
       "      <th>PAM50</th>\n",
       "      <th>NMF.Cluster</th>\n",
       "      <th>NMF.Cluster.Membership.Score</th>\n",
       "      <th>Age.in.Month</th>\n",
       "      <th>Gender</th>\n",
       "      <th>Ethnicity</th>\n",
       "      <th>ER.Updated.Clinical.Status</th>\n",
       "      <th>PR.Clinical.Status</th>\n",
       "      <th>ERBB2.Updated.Clinical.Status</th>\n",
       "      <th>TNBC.Updated.Clinical.Status</th>\n",
       "      <th>ERBB2.Proteogenomic.Status</th>\n",
       "      <th>TOP2A.Proteogenomic.Status</th>\n",
       "    </tr>\n",
       "    <tr>\n",
       "      <th>Patient_ID</th>\n",
       "      <th></th>\n",
       "      <th></th>\n",
       "      <th></th>\n",
       "      <th></th>\n",
       "      <th></th>\n",
       "      <th></th>\n",
       "      <th></th>\n",
       "      <th></th>\n",
       "      <th></th>\n",
       "      <th></th>\n",
       "      <th></th>\n",
       "      <th></th>\n",
       "      <th></th>\n",
       "      <th></th>\n",
       "      <th></th>\n",
       "      <th></th>\n",
       "      <th></th>\n",
       "      <th></th>\n",
       "    </tr>\n",
       "  </thead>\n",
       "  <tbody>\n",
       "    <tr>\n",
       "      <th>CPT000814</th>\n",
       "      <td>CPT000814</td>\n",
       "      <td>Tumor</td>\n",
       "      <td>13</td>\n",
       "      <td>127C</td>\n",
       "      <td>Stage IIA</td>\n",
       "      <td>NaN</td>\n",
       "      <td>Basal</td>\n",
       "      <td>Basal-I</td>\n",
       "      <td>1.000</td>\n",
       "      <td>NaN</td>\n",
       "      <td>NaN</td>\n",
       "      <td>black.or.african.american</td>\n",
       "      <td>negative</td>\n",
       "      <td>negative</td>\n",
       "      <td>NaN</td>\n",
       "      <td>positive</td>\n",
       "      <td>negative</td>\n",
       "      <td>negative</td>\n",
       "    </tr>\n",
       "    <tr>\n",
       "      <th>CPT001846</th>\n",
       "      <td>CPT001846</td>\n",
       "      <td>Tumor</td>\n",
       "      <td>12</td>\n",
       "      <td>128C</td>\n",
       "      <td>Stage III</td>\n",
       "      <td>NaN</td>\n",
       "      <td>Basal</td>\n",
       "      <td>Basal-I</td>\n",
       "      <td>0.672</td>\n",
       "      <td>NaN</td>\n",
       "      <td>NaN</td>\n",
       "      <td>white</td>\n",
       "      <td>negative</td>\n",
       "      <td>negative</td>\n",
       "      <td>NaN</td>\n",
       "      <td>positive</td>\n",
       "      <td>negative</td>\n",
       "      <td>negative</td>\n",
       "    </tr>\n",
       "    <tr>\n",
       "      <th>X01BR001</th>\n",
       "      <td>X01BR001</td>\n",
       "      <td>Tumor</td>\n",
       "      <td>2</td>\n",
       "      <td>129N</td>\n",
       "      <td>Stage IIB</td>\n",
       "      <td>0.0</td>\n",
       "      <td>Basal</td>\n",
       "      <td>Basal-I</td>\n",
       "      <td>0.782</td>\n",
       "      <td>660.0</td>\n",
       "      <td>female</td>\n",
       "      <td>black.or.african.american</td>\n",
       "      <td>negative</td>\n",
       "      <td>negative</td>\n",
       "      <td>negative</td>\n",
       "      <td>positive</td>\n",
       "      <td>negative</td>\n",
       "      <td>negative</td>\n",
       "    </tr>\n",
       "    <tr>\n",
       "      <th>X01BR008</th>\n",
       "      <td>X01BR008</td>\n",
       "      <td>Tumor</td>\n",
       "      <td>16</td>\n",
       "      <td>127C</td>\n",
       "      <td>NaN</td>\n",
       "      <td>NaN</td>\n",
       "      <td>Basal</td>\n",
       "      <td>Basal-I</td>\n",
       "      <td>0.958</td>\n",
       "      <td>NaN</td>\n",
       "      <td>NaN</td>\n",
       "      <td>NaN</td>\n",
       "      <td>NaN</td>\n",
       "      <td>NaN</td>\n",
       "      <td>NaN</td>\n",
       "      <td>NaN</td>\n",
       "      <td>negative</td>\n",
       "      <td>negative</td>\n",
       "    </tr>\n",
       "    <tr>\n",
       "      <th>X01BR009</th>\n",
       "      <td>X01BR009</td>\n",
       "      <td>Tumor</td>\n",
       "      <td>16</td>\n",
       "      <td>127N</td>\n",
       "      <td>NaN</td>\n",
       "      <td>NaN</td>\n",
       "      <td>Basal</td>\n",
       "      <td>Basal-I</td>\n",
       "      <td>0.825</td>\n",
       "      <td>NaN</td>\n",
       "      <td>NaN</td>\n",
       "      <td>NaN</td>\n",
       "      <td>negative</td>\n",
       "      <td>negative</td>\n",
       "      <td>NaN</td>\n",
       "      <td>positive</td>\n",
       "      <td>negative</td>\n",
       "      <td>negative</td>\n",
       "    </tr>\n",
       "  </tbody>\n",
       "</table>\n",
       "</div>"
      ],
      "text/plain": [
       "Name       Replicate_Measurement_IDs Sample_Tumor_Normal TMT.Plex TMT.Channel  \\\n",
       "Patient_ID                                                                      \n",
       "CPT000814                  CPT000814               Tumor       13        127C   \n",
       "CPT001846                  CPT001846               Tumor       12        128C   \n",
       "X01BR001                    X01BR001               Tumor        2        129N   \n",
       "X01BR008                    X01BR008               Tumor       16        127C   \n",
       "X01BR009                    X01BR009               Tumor       16        127N   \n",
       "\n",
       "Name            Stage  Ischemia.Time.in.Minutes  PAM50 NMF.Cluster  \\\n",
       "Patient_ID                                                           \n",
       "CPT000814   Stage IIA                       NaN  Basal     Basal-I   \n",
       "CPT001846   Stage III                       NaN  Basal     Basal-I   \n",
       "X01BR001    Stage IIB                       0.0  Basal     Basal-I   \n",
       "X01BR008          NaN                       NaN  Basal     Basal-I   \n",
       "X01BR009          NaN                       NaN  Basal     Basal-I   \n",
       "\n",
       "Name        NMF.Cluster.Membership.Score  Age.in.Month  Gender  \\\n",
       "Patient_ID                                                       \n",
       "CPT000814                          1.000           NaN     NaN   \n",
       "CPT001846                          0.672           NaN     NaN   \n",
       "X01BR001                           0.782         660.0  female   \n",
       "X01BR008                           0.958           NaN     NaN   \n",
       "X01BR009                           0.825           NaN     NaN   \n",
       "\n",
       "Name                        Ethnicity ER.Updated.Clinical.Status  \\\n",
       "Patient_ID                                                         \n",
       "CPT000814   black.or.african.american                   negative   \n",
       "CPT001846                       white                   negative   \n",
       "X01BR001    black.or.african.american                   negative   \n",
       "X01BR008                          NaN                        NaN   \n",
       "X01BR009                          NaN                   negative   \n",
       "\n",
       "Name       PR.Clinical.Status ERBB2.Updated.Clinical.Status  \\\n",
       "Patient_ID                                                    \n",
       "CPT000814            negative                           NaN   \n",
       "CPT001846            negative                           NaN   \n",
       "X01BR001             negative                      negative   \n",
       "X01BR008                  NaN                           NaN   \n",
       "X01BR009             negative                           NaN   \n",
       "\n",
       "Name       TNBC.Updated.Clinical.Status ERBB2.Proteogenomic.Status  \\\n",
       "Patient_ID                                                           \n",
       "CPT000814                      positive                   negative   \n",
       "CPT001846                      positive                   negative   \n",
       "X01BR001                       positive                   negative   \n",
       "X01BR008                            NaN                   negative   \n",
       "X01BR009                       positive                   negative   \n",
       "\n",
       "Name       TOP2A.Proteogenomic.Status  \n",
       "Patient_ID                             \n",
       "CPT000814                    negative  \n",
       "CPT001846                    negative  \n",
       "X01BR001                     negative  \n",
       "X01BR008                     negative  \n",
       "X01BR009                     negative  "
      ]
     },
     "execution_count": 47,
     "metadata": {},
     "output_type": "execute_result"
    }
   ],
   "source": [
    "# write code here\n",
    "clinical_data.head()"
   ]
  },
  {
   "cell_type": "markdown",
   "id": "77030e93",
   "metadata": {},
   "source": [
    "**Exercise 4.1** You might notice that the Age column values don't look like years -- they're in months. Create a new column called \"Age\" with the \"Age.in.Month\" values / 12. Then, use head() again to make sure the ages were converted."
   ]
  },
  {
   "cell_type": "code",
   "execution_count": 63,
   "id": "e2b7a6d2",
   "metadata": {},
   "outputs": [
    {
     "data": {
      "text/html": [
       "<div>\n",
       "<style scoped>\n",
       "    .dataframe tbody tr th:only-of-type {\n",
       "        vertical-align: middle;\n",
       "    }\n",
       "\n",
       "    .dataframe tbody tr th {\n",
       "        vertical-align: top;\n",
       "    }\n",
       "\n",
       "    .dataframe thead th {\n",
       "        text-align: right;\n",
       "    }\n",
       "</style>\n",
       "<table border=\"1\" class=\"dataframe\">\n",
       "  <thead>\n",
       "    <tr style=\"text-align: right;\">\n",
       "      <th>Name</th>\n",
       "      <th>Replicate_Measurement_IDs</th>\n",
       "      <th>Sample_Tumor_Normal</th>\n",
       "      <th>TMT.Plex</th>\n",
       "      <th>TMT.Channel</th>\n",
       "      <th>Stage</th>\n",
       "      <th>Ischemia.Time.in.Minutes</th>\n",
       "      <th>PAM50</th>\n",
       "      <th>NMF.Cluster</th>\n",
       "      <th>NMF.Cluster.Membership.Score</th>\n",
       "      <th>Age.in.Month</th>\n",
       "      <th>Gender</th>\n",
       "      <th>Ethnicity</th>\n",
       "      <th>ER.Updated.Clinical.Status</th>\n",
       "      <th>PR.Clinical.Status</th>\n",
       "      <th>ERBB2.Updated.Clinical.Status</th>\n",
       "      <th>TNBC.Updated.Clinical.Status</th>\n",
       "      <th>ERBB2.Proteogenomic.Status</th>\n",
       "      <th>TOP2A.Proteogenomic.Status</th>\n",
       "      <th>Age</th>\n",
       "    </tr>\n",
       "    <tr>\n",
       "      <th>Patient_ID</th>\n",
       "      <th></th>\n",
       "      <th></th>\n",
       "      <th></th>\n",
       "      <th></th>\n",
       "      <th></th>\n",
       "      <th></th>\n",
       "      <th></th>\n",
       "      <th></th>\n",
       "      <th></th>\n",
       "      <th></th>\n",
       "      <th></th>\n",
       "      <th></th>\n",
       "      <th></th>\n",
       "      <th></th>\n",
       "      <th></th>\n",
       "      <th></th>\n",
       "      <th></th>\n",
       "      <th></th>\n",
       "      <th></th>\n",
       "    </tr>\n",
       "  </thead>\n",
       "  <tbody>\n",
       "    <tr>\n",
       "      <th>CPT000814</th>\n",
       "      <td>CPT000814</td>\n",
       "      <td>Tumor</td>\n",
       "      <td>13</td>\n",
       "      <td>127C</td>\n",
       "      <td>Stage IIA</td>\n",
       "      <td>NaN</td>\n",
       "      <td>Basal</td>\n",
       "      <td>Basal-I</td>\n",
       "      <td>1.000</td>\n",
       "      <td>NaN</td>\n",
       "      <td>NaN</td>\n",
       "      <td>black.or.african.american</td>\n",
       "      <td>negative</td>\n",
       "      <td>negative</td>\n",
       "      <td>NaN</td>\n",
       "      <td>positive</td>\n",
       "      <td>negative</td>\n",
       "      <td>negative</td>\n",
       "      <td>NaN</td>\n",
       "    </tr>\n",
       "    <tr>\n",
       "      <th>CPT001846</th>\n",
       "      <td>CPT001846</td>\n",
       "      <td>Tumor</td>\n",
       "      <td>12</td>\n",
       "      <td>128C</td>\n",
       "      <td>Stage III</td>\n",
       "      <td>NaN</td>\n",
       "      <td>Basal</td>\n",
       "      <td>Basal-I</td>\n",
       "      <td>0.672</td>\n",
       "      <td>NaN</td>\n",
       "      <td>NaN</td>\n",
       "      <td>white</td>\n",
       "      <td>negative</td>\n",
       "      <td>negative</td>\n",
       "      <td>NaN</td>\n",
       "      <td>positive</td>\n",
       "      <td>negative</td>\n",
       "      <td>negative</td>\n",
       "      <td>NaN</td>\n",
       "    </tr>\n",
       "    <tr>\n",
       "      <th>X01BR001</th>\n",
       "      <td>X01BR001</td>\n",
       "      <td>Tumor</td>\n",
       "      <td>2</td>\n",
       "      <td>129N</td>\n",
       "      <td>Stage IIB</td>\n",
       "      <td>0.0</td>\n",
       "      <td>Basal</td>\n",
       "      <td>Basal-I</td>\n",
       "      <td>0.782</td>\n",
       "      <td>660.0</td>\n",
       "      <td>female</td>\n",
       "      <td>black.or.african.american</td>\n",
       "      <td>negative</td>\n",
       "      <td>negative</td>\n",
       "      <td>negative</td>\n",
       "      <td>positive</td>\n",
       "      <td>negative</td>\n",
       "      <td>negative</td>\n",
       "      <td>55.0</td>\n",
       "    </tr>\n",
       "    <tr>\n",
       "      <th>X01BR008</th>\n",
       "      <td>X01BR008</td>\n",
       "      <td>Tumor</td>\n",
       "      <td>16</td>\n",
       "      <td>127C</td>\n",
       "      <td>NaN</td>\n",
       "      <td>NaN</td>\n",
       "      <td>Basal</td>\n",
       "      <td>Basal-I</td>\n",
       "      <td>0.958</td>\n",
       "      <td>NaN</td>\n",
       "      <td>NaN</td>\n",
       "      <td>NaN</td>\n",
       "      <td>NaN</td>\n",
       "      <td>NaN</td>\n",
       "      <td>NaN</td>\n",
       "      <td>NaN</td>\n",
       "      <td>negative</td>\n",
       "      <td>negative</td>\n",
       "      <td>NaN</td>\n",
       "    </tr>\n",
       "    <tr>\n",
       "      <th>X01BR009</th>\n",
       "      <td>X01BR009</td>\n",
       "      <td>Tumor</td>\n",
       "      <td>16</td>\n",
       "      <td>127N</td>\n",
       "      <td>NaN</td>\n",
       "      <td>NaN</td>\n",
       "      <td>Basal</td>\n",
       "      <td>Basal-I</td>\n",
       "      <td>0.825</td>\n",
       "      <td>NaN</td>\n",
       "      <td>NaN</td>\n",
       "      <td>NaN</td>\n",
       "      <td>negative</td>\n",
       "      <td>negative</td>\n",
       "      <td>NaN</td>\n",
       "      <td>positive</td>\n",
       "      <td>negative</td>\n",
       "      <td>negative</td>\n",
       "      <td>NaN</td>\n",
       "    </tr>\n",
       "  </tbody>\n",
       "</table>\n",
       "</div>"
      ],
      "text/plain": [
       "Name       Replicate_Measurement_IDs Sample_Tumor_Normal TMT.Plex TMT.Channel  \\\n",
       "Patient_ID                                                                      \n",
       "CPT000814                  CPT000814               Tumor       13        127C   \n",
       "CPT001846                  CPT001846               Tumor       12        128C   \n",
       "X01BR001                    X01BR001               Tumor        2        129N   \n",
       "X01BR008                    X01BR008               Tumor       16        127C   \n",
       "X01BR009                    X01BR009               Tumor       16        127N   \n",
       "\n",
       "Name            Stage  Ischemia.Time.in.Minutes  PAM50 NMF.Cluster  \\\n",
       "Patient_ID                                                           \n",
       "CPT000814   Stage IIA                       NaN  Basal     Basal-I   \n",
       "CPT001846   Stage III                       NaN  Basal     Basal-I   \n",
       "X01BR001    Stage IIB                       0.0  Basal     Basal-I   \n",
       "X01BR008          NaN                       NaN  Basal     Basal-I   \n",
       "X01BR009          NaN                       NaN  Basal     Basal-I   \n",
       "\n",
       "Name        NMF.Cluster.Membership.Score  Age.in.Month  Gender  \\\n",
       "Patient_ID                                                       \n",
       "CPT000814                          1.000           NaN     NaN   \n",
       "CPT001846                          0.672           NaN     NaN   \n",
       "X01BR001                           0.782         660.0  female   \n",
       "X01BR008                           0.958           NaN     NaN   \n",
       "X01BR009                           0.825           NaN     NaN   \n",
       "\n",
       "Name                        Ethnicity ER.Updated.Clinical.Status  \\\n",
       "Patient_ID                                                         \n",
       "CPT000814   black.or.african.american                   negative   \n",
       "CPT001846                       white                   negative   \n",
       "X01BR001    black.or.african.american                   negative   \n",
       "X01BR008                          NaN                        NaN   \n",
       "X01BR009                          NaN                   negative   \n",
       "\n",
       "Name       PR.Clinical.Status ERBB2.Updated.Clinical.Status  \\\n",
       "Patient_ID                                                    \n",
       "CPT000814            negative                           NaN   \n",
       "CPT001846            negative                           NaN   \n",
       "X01BR001             negative                      negative   \n",
       "X01BR008                  NaN                           NaN   \n",
       "X01BR009             negative                           NaN   \n",
       "\n",
       "Name       TNBC.Updated.Clinical.Status ERBB2.Proteogenomic.Status  \\\n",
       "Patient_ID                                                           \n",
       "CPT000814                      positive                   negative   \n",
       "CPT001846                      positive                   negative   \n",
       "X01BR001                       positive                   negative   \n",
       "X01BR008                            NaN                   negative   \n",
       "X01BR009                       positive                   negative   \n",
       "\n",
       "Name       TOP2A.Proteogenomic.Status   Age  \n",
       "Patient_ID                                   \n",
       "CPT000814                    negative   NaN  \n",
       "CPT001846                    negative   NaN  \n",
       "X01BR001                     negative  55.0  \n",
       "X01BR008                     negative   NaN  \n",
       "X01BR009                     negative   NaN  "
      ]
     },
     "execution_count": 63,
     "metadata": {},
     "output_type": "execute_result"
    }
   ],
   "source": [
    "# convert ages here!\n",
    "clinical_data[\"Age\"] = clinical_data.loc[:,\"Age.in.Month\"]/12\n",
    "clinical_data.head()"
   ]
  },
  {
   "cell_type": "markdown",
   "id": "a7e704a4",
   "metadata": {},
   "source": [
    "There are actually control (non-cancer) tissue samples in the data! Let's show this using the unique() function from numpy.\n",
    "\n",
    "__Exercise 4.2__ Call the unique() function on the Sample_Tumor_Normal column. The function will return the unique values in the column in a sorted order -- this is super useful for examining categorical variables, like tumor stage and tumor status, for example."
   ]
  },
  {
   "cell_type": "code",
   "execution_count": 64,
   "id": "5b56fa09",
   "metadata": {},
   "outputs": [
    {
     "data": {
      "text/plain": [
       "array(['Tumor'], dtype=object)"
      ]
     },
     "execution_count": 64,
     "metadata": {},
     "output_type": "execute_result"
    }
   ],
   "source": [
    "# Get the levels of the Sample_Tumor_Normal column with unique()\n",
    "clinical_data.loc[:,\"Sample_Tumor_Normal\"].unique()"
   ]
  },
  {
   "cell_type": "markdown",
   "id": "5b1338d1",
   "metadata": {},
   "source": [
    "__Exercise 4.3__ Let's examine how tumor stage varies as a function of age:\n",
    "\n",
    "   1. Import the plotting libraries matplotlib.pyplot and seaborn (use the standard abbreviations presented last time).\n",
    "   2. Create an age_category column in clinical_data. As before, we'll define \"Young\" as under 50, and \"Old\" as 50 and older. (Hint: use the where() function from numpy, the equivalent to ifelse()).\n",
    "   3. The \"Stage\" information for these patients is NaN (the pandas version of NA). Use the isna() function from pandas and boolean indexing (i.e. where() from numpy again) to replace these NaN values in the Stage column with \"No cancer\".\n",
    "   4. Using nested for loop and boolean indexing, count the number of old and young patients that have No cancer, Stage I, Stage II, Stage III, and Stage IV cancer.\n",
    "   5. Compare your results to the barplot. Do your numbers make sense?"
   ]
  },
  {
   "cell_type": "code",
   "execution_count": 94,
   "id": "3d9b0202",
   "metadata": {},
   "outputs": [
    {
     "name": "stdout",
     "output_type": "stream",
     "text": [
      "Old\n",
      "15\n",
      "3\n",
      "43\n",
      "11\n",
      "2\n",
      "18\n",
      "2\n",
      "2\n",
      "Young\n",
      "0\n",
      "1\n",
      "7\n",
      "9\n",
      "2\n",
      "4\n",
      "1\n",
      "2\n"
     ]
    },
    {
     "data": {
      "image/png": "[encoded data removed]",
      "text/plain": [
       "<Figure size 640x480 with 1 Axes>"
      ]
     },
     "metadata": {},
     "output_type": "display_data"
    }
   ],
   "source": [
    "# 1. Import libraries here\n",
    "from matplotlib import pyplot as plt\n",
    "import seaborn as sns\n",
    "\n",
    "\n",
    "# 2. Create the age_category column in clinical_data\n",
    "clinical_data[\"age_category\"] = np.where(clinical_data.loc[:,\"Age\"]<=50, \"Young\", \"Old\")\n",
    "\n",
    "\n",
    "# 3. Replace NaN with No cancer\n",
    "\n",
    "nan_mask = np.where(pd.isna(clinical_data.loc[:, \"Stage\"]), \"No cancer\", clinical_data.loc[:, \"Stage\"])\n",
    "clinical_data.loc[:, \"Stage\"] = nan_mask\n",
    "\n",
    "\n",
    "## this will programatically get all the stages in order\n",
    "stage_categories = np.unique(clinical_data.loc[:,\"Stage\"])\n",
    "assert(np.all(stage_categories == ['No cancer', 'Stage IA', 'Stage IIA', 'Stage IIB',\n",
    "                                    'Stage III', 'Stage IIIA', 'Stage IIIB', 'Stage IIIC']))\n",
    "\n",
    "# 4. Loop through all the stage categories and count\n",
    "\n",
    "for age_cat in [\"Old\", \"Young\"]: # first get the old data, then the young data\n",
    "    print(age_cat)\n",
    "    # fill this in with the cancer category:\n",
    "    for stage in stage_categories:\n",
    "        # 1. create a subset of the data frame with the old/young patients\n",
    "        # 2. count the number of patients with the stage of cancer and print\n",
    "        print(clinical_data.loc[clinical_data.loc[:,\"age_category\"]==age_cat,:].loc[clinical_data.loc[:,\"Stage\"]==stage,:].shape[0])\n",
    "\n",
    "\n",
    "        \n",
    "# 5. A sample barplot to compare your results\n",
    "clinical_data_copy = clinical_data\n",
    "clinical_data_copy[\"Stage\"] = np.where(pd.isna(clinical_data[\"Stage\"]), \"No cancer\", clinical_data[\"Stage\"])\n",
    "sns.countplot(\n",
    "    x = \"age_category\",\n",
    "    hue = \"Stage\",\n",
    "    hue_order = stage_categories,\n",
    "    data = clinical_data_copy\n",
    ")\n",
    "\n",
    "plt.show()\n",
    "\n",
    "# The number is consistent with the bar plot"
   ]
  }
 ],
 "metadata": {
  "kernelspec": {
   "display_name": "Python 3 (ipykernel)",
   "language": "python",
   "name": "python3"
  },
  "language_info": {
   "codemirror_mode": {
    "name": "ipython",
    "version": 3
   },
   "file_extension": ".py",
   "mimetype": "text/x-python",
   "name": "python",
   "nbconvert_exporter": "python",
   "pygments_lexer": "ipython3",
   "version": "3.9.13"
  }
 },
 "nbformat": 4,
 "nbformat_minor": 5
}
